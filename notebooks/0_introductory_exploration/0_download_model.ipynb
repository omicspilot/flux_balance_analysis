{
 "cells": [
  {
   "cell_type": "markdown",
   "metadata": {},
   "source": [
    "# Download a Metabolic Model\n",
    "\n",
    "This notebook guides you through selecting and downloading a genome-scale metabolic model for *Escherichia coli* from the [BiGG Models database](http://bigg.ucsd.edu/)."
   ]
  },
  {
   "cell_type": "markdown",
   "metadata": {},
   "source": [
    "### Step 1: Imports and Setup\n",
    "\n",
    "First, we'll import the necessary libraries and define the output directory for our models. The path is relative to the project's root `models` directory."
   ]
  },
  {
   "cell_type": "code",
   "execution_count": 5,
   "metadata": {},
   "outputs": [],
   "source": [
    "import requests\n",
    "import os\n",
    "import sys\n",
    "\n",
    "# The models will be saved two levels up in the main 'models' directory\n",
    "output_dir = \"../../models\"\n",
    "os.makedirs(output_dir, exist_ok=True)"
   ]
  },
  {
   "cell_type": "markdown",
   "metadata": {},
   "source": [
    "### Step 2: Define Functions to Fetch Models\n",
    "\n",
    "The following functions will fetch the list of available *E. coli* models directly from the BiGG API. This ensures the list is always up-to-date.\n",
    "\n",
    "If the API is unavailable, it will fall back to a default list of common models."
   ]
  },
  {
   "cell_type": "code",
   "execution_count": 6,
   "metadata": {},
   "outputs": [],
   "source": [
    "def get_ecoli_models():\n",
    "    \"\"\"Returns a hardcoded dictionary of E. coli models\"\"\"\n",
    "    return {\n",
    "        \"1\": \"iML1515\",\n",
    "        \"2\": \"iJO1366\",\n",
    "    }"
   ]
  },
  {
   "cell_type": "markdown",
   "metadata": {},
   "source": [
    "### Step 3: Select and Download the Model\n",
    "\n",
    "Now, run the cell below. It will display a list of available models and prompt you to enter the number corresponding to your choice. It will then download the selected model into the `models/` directory."
   ]
  },
  {
   "cell_type": "code",
   "execution_count": 7,
   "metadata": {},
   "outputs": [
    {
     "name": "stdout",
     "output_type": "stream",
     "text": [
      "\n",
      "Please choose which E. coli model to download:\n",
      "  1: iML1515\n",
      "  2: iJO1366\n",
      "✅ Model file '../../models/iML1515.json' already exists. Skipping download.\n"
     ]
    }
   ],
   "source": [
    "available_models = get_ecoli_models()\n",
    "\n",
    "# Prompt user for choice\n",
    "print(\"\\nPlease choose which E. coli model to download:\")\n",
    "for key, value in available_models.items():\n",
    "    print(f\"  {key}: {value}\")\n",
    "\n",
    "choice = input(\"Enter the number of your choice: \")\n",
    "model_id = available_models.get(choice)\n",
    "\n",
    "if not model_id:\n",
    "    print(\"❌ Invalid choice. No model downloaded.\", file=sys.stderr)\n",
    "else:\n",
    "    file_path = os.path.join(output_dir, f\"{model_id}.json\")\n",
    "\n",
    "    # Check if the file already exists\n",
    "    if os.path.exists(file_path):\n",
    "        print(f\"✅ Model file '{file_path}' already exists. Skipping download.\")\n",
    "    else:\n",
    "        url = f\"http://bigg.ucsd.edu/static/models/{model_id}.json\"\n",
    "        print(f\"⬇️  Downloading {model_id} from {url}...\")\n",
    "        try:\n",
    "            response = requests.get(url, timeout=30)\n",
    "            response.raise_for_status()\n",
    "            with open(file_path, \"wb\") as f:\n",
    "                f.write(response.content)\n",
    "            print(f\"✅ Model successfully downloaded to {file_path}\")\n",
    "        except requests.exceptions.RequestException as e:\n",
    "            print(f\"❌ Failed to download model. Error: {e}\", file=sys.stderr)"
   ]
  }
 ],
 "metadata": {
  "kernelspec": {
   "display_name": "fba_ecoli",
   "language": "python",
   "name": "python3"
  },
  "language_info": {
   "codemirror_mode": {
    "name": "ipython",
    "version": 3
   },
   "file_extension": ".py",
   "mimetype": "text/x-python",
   "name": "python",
   "nbconvert_exporter": "python",
   "pygments_lexer": "ipython3",
   "version": "3.10.18"
  }
 },
 "nbformat": 4,
 "nbformat_minor": 4
}
