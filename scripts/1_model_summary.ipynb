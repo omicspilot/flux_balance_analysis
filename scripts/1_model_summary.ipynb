{
 "cells": [
  {
   "cell_type": "markdown",
   "metadata": {},
   "source": [
    "# 1. Model Summary\n",
    "\n",
    "This notebook loads a downloaded metabolic model and prints a summary of its key properties, such as the number of genes, metabolites, and reactions. It serves as a quick check to ensure the model is loaded correctly and to get a high-level overview before performing analyses."
   ]
  },
  {
   "cell_type": "code",
   "execution_count": 1,
   "metadata": {},
   "outputs": [
    {
     "ename": "ModuleNotFoundError",
     "evalue": "No module named 'cobra'",
     "output_type": "error",
     "traceback": [
      "\u001b[0;31m---------------------------------------------------------------------------\u001b[0m",
      "\u001b[0;31mModuleNotFoundError\u001b[0m                       Traceback (most recent call last)",
      "Cell \u001b[0;32mIn[1], line 1\u001b[0m\n\u001b[0;32m----> 1\u001b[0m \u001b[38;5;28;01mimport\u001b[39;00m\u001b[38;5;250m \u001b[39m\u001b[38;5;21;01mcobra\u001b[39;00m\n\u001b[1;32m      2\u001b[0m \u001b[38;5;28;01mimport\u001b[39;00m\u001b[38;5;250m \u001b[39m\u001b[38;5;21;01mos\u001b[39;00m\n\u001b[1;32m      3\u001b[0m \u001b[38;5;28;01mimport\u001b[39;00m\u001b[38;5;250m \u001b[39m\u001b[38;5;21;01msys\u001b[39;00m\n",
      "\u001b[0;31mModuleNotFoundError\u001b[0m: No module named 'cobra'"
     ]
    }
   ],
   "source": [
    "import cobra\n",
    "import os\n",
    "import sys"
   ]
  },
  {
   "cell_type": "code",
   "execution_count": null,
   "metadata": {},
   "outputs": [],
   "source": [
    "def get_available_models(model_dir=\"../models\"):\n",
    "    \"\"\"Scans the model directory for available .json model files.\"\"\"\n",
    "    if not os.path.isdir(model_dir):\n",
    "        return {}\n",
    "    # Sort the files to ensure a consistent order\n",
    "    sorted_files = sorted([f for f in os.listdir(model_dir) if f.endswith(\".json\")])\n",
    "    models = {\n",
    "        str(i + 1): f.replace(\".json\", \"\")\n",
    "        for i, f in enumerate(sorted_files)\n",
    "    }\n",
    "    return models"
   ]
  },
  {
   "cell_type": "code",
   "execution_count": null,
   "metadata": {},
   "outputs": [],
   "source": [
    "AVAILABLE_MODELS = get_available_models()\n",
    "\n",
    "if not AVAILABLE_MODELS:\n",
    "    print(\"❌ No models found in the 'models/' directory.\", file=sys.stderr)\n",
    "    print(\"Please run the '0_download_model.py' script first.\", file=sys.stderr)\n",
    "else:\n",
    "    print(\"Please choose which model to summarize:\")\n",
    "    for key, value in AVAILABLE_MODELS.items():\n",
    "        print(f\"  {key}: {value}\")\n",
    "\n",
    "    choice = input(\"Enter the number of your choice: \")\n",
    "    model_id = AVAILABLE_MODELS.get(choice)\n",
    "\n",
    "    if not model_id:\n",
    "        print(\"❌ Invalid choice.\", file=sys.stderr)\n",
    "    else:\n",
    "        model_path = f\"../models/{model_id}.json\"\n",
    "        print(f\"\\n📖 Loading model from {model_path}...\")\n",
    "        try:\n",
    "            model = cobra.io.load_json_model(model_path)\n",
    "            print(f\"\\n--- Summary for {model_id} ---\")\n",
    "            print(model)\n",
    "            print(\"\\n\")\n",
    "            print(f\"Reactions:   {len(model.reactions)}\")\n",
    "            print(f\"Metabolites: {len(model.metabolites)}\")\n",
    "            print(f\"Genes:       {len(model.genes)}\")\n",
    "        except Exception as e:\n",
    "            print(f\"❌ Failed to load model. Error: {e}\", file=sys.stderr)"
   ]
  }
 ],
 "metadata": {
  "kernelspec": {
   "display_name": "fba_ecoli",
   "language": "python",
   "name": "python3"
  },
  "language_info": {
   "codemirror_mode": {
    "name": "ipython",
    "version": 3
   },
   "file_extension": ".py",
   "mimetype": "text/x-python",
   "name": "python",
   "nbconvert_exporter": "python",
   "pygments_lexer": "ipython3",
   "version": "3.10.18"
  }
 },
 "nbformat": 4,
 "nbformat_minor": 4
}
