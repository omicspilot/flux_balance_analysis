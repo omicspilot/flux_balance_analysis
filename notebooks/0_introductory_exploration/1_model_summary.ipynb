{
 "cells": [
  {
   "cell_type": "markdown",
   "metadata": {},
   "source": [
    "# Model Summary\n",
    "\n",
    "### Introduction\n",
    "This notebook loads a downloaded metabolic model and prints a summary of its key properties, such as the number of genes, metabolites, and reactions. It serves as a quick check to ensure the model is loaded correctly and to get a high-level overview before performing analyses.\n",
    "\n",
    "We will add a simple histogram showing the number of metabolites per reaction and have a first look at the package *matplotlib*.\n",
    "\n",
    "**NOTES**: We'll be using the <span style=\"color:green\">iML1515</span> model to explain what we see, but you can choose any model you want and make the same deductions on your own. Theoretical notes are meant to give context, more in-deapth knowledge about GEMs and their content is anyway needed to further understand the properties"
   ]
  },
  {
   "cell_type": "markdown",
   "metadata": {},
   "source": [
    "### Step 1: Import packages and define functions"
   ]
  },
  {
   "cell_type": "code",
   "execution_count": 4,
   "metadata": {},
   "outputs": [],
   "source": [
    "import cobra\n",
    "import os\n",
    "import sys\n",
    "import pandas as pd\n",
    "import matplotlib.pyplot as plt"
   ]
  },
  {
   "cell_type": "code",
   "execution_count": 5,
   "metadata": {},
   "outputs": [],
   "source": [
    "def get_available_models(model_dir=\"../../models\"):\n",
    "    \"\"\"Scans the model directory for available .json model files.\"\"\"\n",
    "    if not os.path.isdir(model_dir):\n",
    "        return {}\n",
    "    # Sort the files to ensure a consistent order\n",
    "    sorted_files = sorted([f for f in os.listdir(model_dir) if f.endswith(\".json\")])\n",
    "    models = {\n",
    "        str(i + 1): f.replace(\".json\", \"\")\n",
    "        for i, f in enumerate(sorted_files)\n",
    "    }\n",
    "    return models"
   ]
  },
  {
   "cell_type": "markdown",
   "metadata": {},
   "source": [
    "The function **get_available_models** scans the model directory looking for *.json* files. It then returns a dictionary of the sorted list of the models.\n",
    "\n",
    "The function is used in the block below to ask us to choose which model to upload."
   ]
  },
  {
   "cell_type": "markdown",
   "metadata": {},
   "source": [
    "### Step 2: Choose model"
   ]
  },
  {
   "cell_type": "code",
   "execution_count": 6,
   "metadata": {},
   "outputs": [
    {
     "name": "stdout",
     "output_type": "stream",
     "text": [
      "Please choose which model to summarize:\n",
      "  1: iML1515\n",
      "\n",
      "📖 Loading model from ../../models/iML1515.json...\n",
      "✅ iML1515 loaded successfully.\n",
      "\n"
     ]
    }
   ],
   "source": [
    "AVAILABLE_MODELS = get_available_models()\n",
    "\n",
    "if not AVAILABLE_MODELS:\n",
    "    print(\"❌ No models found in the 'models/' directory.\", file=sys.stderr)\n",
    "    print(\"Please run the '0_download_model.py' script first.\", file=sys.stderr)\n",
    "else:\n",
    "    print(\"Please choose which model to summarize:\")\n",
    "    for key, value in AVAILABLE_MODELS.items():\n",
    "        print(f\"  {key}: {value}\")\n",
    "\n",
    "    choice = input(\"Enter the number of your choice: \")\n",
    "    model_id = AVAILABLE_MODELS.get(choice)\n",
    "\n",
    "    if not model_id:\n",
    "        print(\"❌ Invalid choice.\", file=sys.stderr)\n",
    "    else:\n",
    "        model_path = f\"../../models/{model_id}.json\"\n",
    "        print(f\"\\n📖 Loading model from {model_path}...\")\n",
    "        try:\n",
    "            model = cobra.io.load_json_model(model_path)\n",
    "            print(f\"✅ {model_id} loaded successfully.\\n\")\n",
    "        except Exception as e:\n",
    "            print(f\"❌ Failed to load model. Error: {e}\", file=sys.stderr)\n"
   ]
  },
  {
   "cell_type": "markdown",
   "metadata": {},
   "source": [
    "### Step 3: Overview of the model properties"
   ]
  },
  {
   "cell_type": "markdown",
   "metadata": {},
   "source": [
    "Once we've chosen a model to upload, we can now proceed with a first general look at the model content: number of reactions, metabolites, and genes.\n",
    "\n",
    "We will also print the first 6 reactions, metabolites and genes.\n"
   ]
  },
  {
   "cell_type": "code",
   "execution_count": null,
   "metadata": {},
   "outputs": [],
   "source": [
    "# Print summary of the model\n",
    "try:\n",
    "    print(f\"\\n--- Summary for {model_id} ---\")\n",
    "    print(model)\n",
    "    print(\"\\n\")\n",
    "    print(f\"Reactions:   {len(model.reactions)}\")\n",
    "    print(f\"Metabolites: {len(model.metabolites)}\")\n",
    "    print(f\"Genes:       {len(model.genes)}\")\n",
    "\n",
    "except Exception as e:\n",
    "    print(f\"❌ Failed to load model. Error: {e}\", file=sys.stderr)"
   ]
  },
  {
   "cell_type": "markdown",
   "metadata": {},
   "source": [
    "## Observations\n",
    "GEMs (Genome-Scale Metabolic Models) like iML1515 are based on decades of biochemical data and curated manually. Each reaction is supported by literature and genome annotation.\n",
    "\n",
    "These stats tell us how comprehensive the model is and help validate the analysis later (e.g., if a key gene or metabolite is missing).\n",
    "\n"
   ]
  },
  {
   "cell_type": "markdown",
   "metadata": {},
   "source": [
    "### Reactions\n"
   ]
  },
  {
   "cell_type": "code",
   "execution_count": 9,
   "metadata": {},
   "outputs": [
    {
     "name": "stdout",
     "output_type": "stream",
     "text": [
      "XPPT: prpp_c + xan_c --> ppi_c + xmp_c\n",
      "NDPK5: atp_c + dgdp_c <=> adp_c + dgtp_c\n"
     ]
    }
   ],
   "source": [
    "# print reactions\n",
    "try:\n",
    "    print(model.reactions[1])\n",
    "    print(model.reactions[3])\n",
    "except Exception as e:\n",
    "    print(f\"❌ Failed to print reactions. Error: {e}\", file=sys.stderr)"
   ]
  },
  {
   "cell_type": "markdown",
   "metadata": {},
   "source": [
    "In the reactions, the arrow indicates the direction in which the reaction occurs. Reactions with <span style=\"color:orange\"><=></span> are reversible; <span style=\"color:orange\">--></span> are irreversible.\n",
    "\n",
    "Also, suffix <span style=\"color:orange\">\\*_c </span> = cytosolic while <span style=\"color:orange\">\\*_e</span> = extracellular.\n"
   ]
  },
  {
   "cell_type": "code",
   "execution_count": 10,
   "metadata": {},
   "outputs": [
    {
     "name": "stdout",
     "output_type": "stream",
     "text": [
      "\n",
      "--- Reaction Summary ---\n",
      "       ID                                               Name  Lower Bound  \\\n",
      "0  CYTDK2                              Cytidine kinase (GTP)          0.0   \n",
      "1    XPPT                 Xanthine phosphoribosyltransferase          0.0   \n",
      "2   HXPRT  Hypoxanthine phosphoribosyltransferase (Hypoxa...          0.0   \n",
      "\n",
      "   Upper Bound       Gene Rule  \n",
      "0       1000.0           b2066  \n",
      "1       1000.0           b0238  \n",
      "2       1000.0  b0238 or b0125  \n"
     ]
    }
   ],
   "source": [
    "# print a reaction summary\n",
    "try:\n",
    "    print(\"\\n--- Reaction Summary ---\")\n",
    "    reaction_summary = pd.DataFrame({\n",
    "        \"ID\": [r.id for r in model.reactions],\n",
    "        \"Name\": [r.name for r in model.reactions],\n",
    "        \"Lower Bound\": [r.lower_bound for r in model.reactions],\n",
    "        \"Upper Bound\": [r.upper_bound for r in model.reactions],\n",
    "        \"Gene Rule\": [r.gene_reaction_rule for r in model.reactions]\n",
    "    })\n",
    "    print(reaction_summary.head(3))  # Display first 3 rows\n",
    "except Exception as e:\n",
    "    print(f\"❌ Failed to summarize reactions. Error: {e}\", file=sys.stderr)"
   ]
  },
  {
   "cell_type": "markdown",
   "metadata": {},
   "source": []
  },
  {
   "cell_type": "markdown",
   "metadata": {},
   "source": [
    "### Metabolites\n",
    "\n",
    "Learning to interpret metabolite names helps understand pathways. Otherwise always be ready to check on literature for more information.\n",
    "\n",
    "<code>cysi__L_e</code> is an L-cystine in the extracellular space (amino acid)"
   ]
  },
  {
   "cell_type": "markdown",
   "metadata": {},
   "source": [
    "### Genes\n",
    "Genes matter in FBA. We can simulate gene knockouts by disabling all reactions controlled by a gene. We can also map experimental transcriptomics/proteomics data to gene IDs"
   ]
  },
  {
   "cell_type": "markdown",
   "metadata": {},
   "source": [
    "### 🦾 Extra\n",
    "\n",
    "📘 Suggested Exercise\n",
    "\n",
    "In your notebook, add cells that:\n",
    "\n",
    "1. List all compartments with model.compartments.\n",
    "2. Count reversible vs irreversible reactions.\n",
    "3. Plot a histogram of how many metabolites are involved per reaction.\n",
    "4. Print the objective function and explain it."
   ]
  }
 ],
 "metadata": {
  "kernelspec": {
   "display_name": "fba_ecoli",
   "language": "python",
   "name": "python3"
  },
  "language_info": {
   "codemirror_mode": {
    "name": "ipython",
    "version": 3
   },
   "file_extension": ".py",
   "mimetype": "text/x-python",
   "name": "python",
   "nbconvert_exporter": "python",
   "pygments_lexer": "ipython3",
   "version": "3.10.18"
  }
 },
 "nbformat": 4,
 "nbformat_minor": 4
}
